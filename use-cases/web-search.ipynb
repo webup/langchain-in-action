{
 "cells": [
  {
   "cell_type": "markdown",
   "metadata": {},
   "source": [
    "# 场景四：自然语言交流的搜索引擎"
   ]
  },
  {
   "cell_type": "code",
   "execution_count": 5,
   "metadata": {},
   "outputs": [
    {
     "name": "stdout",
     "output_type": "stream",
     "text": [
      "pulling manifest\n",
      "pulling 8359bebea988... 100% |██████████████████| (7.4/7.4 GB, 75 TB/s)        \n",
      "pulling 65c6ec5c6ff0... 100% |████████████████████| (45/45 B, 2.4 MB/s)        \n",
      "pulling dd36891f03a0... 100% |████████████████████| (31/31 B, 1.3 MB/s)        \n",
      "pulling f94f529485e6... 100% |███████████████████| (382/382 B, 19 MB/s)        \n",
      "verifying sha256 digest\n",
      "writing manifest\n",
      "removing any unused layers\n",
      "success\n"
     ]
    }
   ],
   "source": [
    "!ollama pull llama2-chinese:13b"
   ]
  },
  {
   "cell_type": "code",
   "execution_count": null,
   "metadata": {},
   "outputs": [],
   "source": [
    "%pip install langchain langchainhub\n",
    "%pip install python-dotenv openai duckduckgo-search numexpr"
   ]
  },
  {
   "cell_type": "code",
   "execution_count": 31,
   "metadata": {},
   "outputs": [
    {
     "name": "stdout",
     "output_type": "stream",
     "text": [
      "\n",
      "\n",
      "\u001b[1m> Entering new AgentExecutor chain...\u001b[0m\n",
      "\u001b[32;1m\u001b[1;3m I need to find out what the temperatures are in Beijing and Shanghai today.\n",
      "Action: duckduckgo_search\n",
      "Action Input: \"Beijing temperature today\"\u001b[0m\u001b[36;1m\u001b[1;3mWeather report for Beijing. Overnight into Tuesday it is mostly cloudy, but most clouds give way early in the day. For the afternoon clear skies prevail. It is a sunny day. Temperatures as high as 72 °F are foreseen. During the night and in the first hours of the day light air is noticeable (1 to 4 mph). Beijing 7 day weather forecast including weather warnings, temperature, rain, wind, visibility, humidity and UV 6:23 AM5:36 PM. Morning temperature of 50 degrees, afternoon 70°, evening 50° and night 45°. Clear, evening mostly clear. The hourly local weather forecast shows hour by hour weather conditions like temperature, feels like temperature, humidity, amount of precipitation and chance of precipitation, wind and gusts for Beijing. Beijing. Beijing Weather Forecast. Providing a local hourly Beijing weather forecast of rain, sun, wind, humidity and temperature. The Long-range 12 day forecast also includes detail for Beijing weather today. Live weather reports from Beijing weather stations and weather warnings that include risk of thunder, high UV index and forecast gales. Plenty of sunshine. High 73F. Winds S at 10 to 15 mph. Tonight Tue 10/31 Low 54 °F. 24% Precip. / 0.00in. Partly to mostly cloudy. Low 54F. Winds light and variable. Tomorrow Wed 11/01 High 74 ...\u001b[0m\u001b[32;1m\u001b[1;3m I need to find out what the temperatures are in Shanghai today.\n",
      "Action: duckduckgo_search\n",
      "Action Input: \"Shanghai temperature today\"\u001b[0m\u001b[36;1m\u001b[1;3m26° 19° Fri 3 Nov 28° 20° Sat 4 Nov 25° 18° Sun 5 Nov 22° 12° Mon 6 Nov Today Tuesday Wednesday Thursday Friday Saturday Sunday Monday Updated: 11:37 (UTC) on Mon 30 Oct 2023 Show full forecast... Today 84 °F 65 °F 8 mph - 9 h 1 hour view The weather forecast has very high predictability. Compare different forecasts with MultiModel. Weather report for Shanghai During the night and in the first hours of the day clear skies prevail, but for this afternoon a few clouds are expected. It is a sunny day. 77° | 61° 60 °F like 60° Fair N 2 Today's temperature is forecast to be NEARLY THE SAME as yesterday. Radar Satellite WunderMap Today Sat 10/28 High 77 °F 2% Precip. / 0.00 in Partly cloudy.... China Shanghai Shanghai Weather Forecast. Providing a local hourly Shanghai weather forecast of rain, sun, wind, humidity and temperature. The Long-range 12 day forecast also includes detail for Shanghai weather today. Thursday 9 Nov. 19° / 18°. 3.5 mm. 4 m/s. Open hourly forecast. Updated 21:30. How often is the weather forecast updated? Forecast as PDF Forecast as SVG. Weather forecast for Shanghai for the next 9 days.\u001b[0m\u001b[32;1m\u001b[1;3m I now know the temperatures for both cities, and can calculate the difference.\n",
      "Action: Calculator\n",
      "Action Input: 72 - 77\u001b[0m\u001b[33;1m\u001b[1;3mAnswer: -5\u001b[0m\u001b[32;1m\u001b[1;3m I now know the final answer\n",
      "Final Answer: 今天上海和北京的气温差五度。\u001b[0m\n",
      "\n",
      "\u001b[1m> Finished chain.\u001b[0m\n"
     ]
    },
    {
     "data": {
      "text/plain": [
       "{'input': '今天上海和北京的气温差几度？', 'output': '今天上海和北京的气温差五度。'}"
      ]
     },
     "execution_count": 31,
     "metadata": {},
     "output_type": "execute_result"
    }
   ],
   "source": [
    "from langchain import hub\n",
    "from langchain.llms import OpenAI\n",
    "from langchain.agents import load_tools \n",
    "from langchain.agents import AgentExecutor\n",
    "from langchain.agents.output_parsers import ReActSingleInputOutputParser\n",
    "from langchain.agents.format_scratchpad import format_log_to_str\n",
    "from langchain.tools.render import render_text_description\n",
    "\n",
    "# 通过 python-dotenv 加载环境变量\n",
    "from dotenv import load_dotenv\n",
    "load_dotenv()\n",
    "\n",
    "# 准备大语言模型：这里需要 OpenAI，可以方便地按需停止推理\n",
    "llm = OpenAI()\n",
    "llm_with_stop = llm.bind(stop=[\"\\nObservation\"])\n",
    "\n",
    "# 准备我们的工具：这里用到 DuckDuckGo 搜索引擎，和一个基于 LLM 的计算器\n",
    "tools = load_tools([\"ddg-search\", \"llm-math\"], llm=llm)\n",
    "\n",
    "# 准备核心提示词：这里从 LangChain Hub 加载了 ReAct 模式的提示词，并填充工具的文本描述\n",
    "prompt = hub.pull(\"hwchase17/react\")\n",
    "prompt = prompt.partial(\n",
    "    tools=render_text_description(tools),\n",
    "    tool_names=\", \".join([t.name for t in tools]),\n",
    ")\n",
    "\n",
    "# 构建 Agent 的工作链：这里最重要的是把中间步骤的结构要保存到提示词的 agent_scratchpad 中\n",
    "agent = (\n",
    "    {\n",
    "        \"input\": lambda x: x[\"input\"],\n",
    "        \"agent_scratchpad\": lambda x: format_log_to_str(x[\"intermediate_steps\"]),\n",
    "    }\n",
    "    | prompt\n",
    "    | llm_with_stop\n",
    "    | ReActSingleInputOutputParser()\n",
    ")\n",
    "\n",
    "# 构建 Agent 执行器：执行器负责执行 Agent 工作链，直至得到最终答案（的标识）并输出回答\n",
    "agent_executor = AgentExecutor(agent=agent, tools=tools, verbose=True)\n",
    "agent_executor.invoke({\"input\": \"今天上海和北京的气温差几度？\"})\n"
   ]
  },
  {
   "cell_type": "code",
   "execution_count": 11,
   "metadata": {},
   "outputs": [
    {
     "data": {
      "text/plain": [
       "'人工智能（英語： artificial intelligence ，缩写为 AI ）亦稱機器智能，指由人製造出來的機器所表現出來的智慧。通常人工智能是指通过普通電腦程式來呈現人類智能的技術。該詞也指出研究這樣的智能系統是否能夠實現，以及如何實現。 人工智能的定義可以分為兩部分，即「人工」和「智能」。「人工」即由人設計，為人創造、製造。 關於甚麼是「智能」，較有爭議性。這涉及到其它諸如意識、自我、心靈，包括無意識的精神等等問題。人唯一瞭解的智能是人本身的智能，這是普遍認同的觀點。 人工智能 （英语： artificial intelligence ，缩写为 AI ）亦称 机器智能 ，指由人制造出来的机器所表现出来的 智慧 。. 通常人工智能是指通过普通电脑程式来呈现人类智能的技术。. 该词也指出研究这样的智能系统是否能够实现，以及如何实现。. 同时，通过 医学 ... 但是我們對我們自身智能的理解都非常有限，對構成人的智能必要元素的瞭解也很有限，所以就很難定義甚麼是「人工」製造的「智能」。因此人工智能的研究往往涉及對人智能本身的研究。其它關於動物或其它人造系統的智能也普遍被認為是人工智能相關的 ... 人工智能转译员人才储备不足。ai相关的岗位主要包含软件工程师、数据工程师、数据科学家、数据架构师、产品经理和转译员等。其中，人工智能转译员的角色尤为重要，因为他们知道应该提出哪些业务问题，并将业务问题\"翻译\"成人工智能解决方案。'"
      ]
     },
     "execution_count": 11,
     "metadata": {},
     "output_type": "execute_result"
    }
   ],
   "source": [
    "from langchain.chat_models import ChatOllama\n",
    "from langchain.prompts import ChatPromptTemplate\n",
    "from langchain.schema.output_parser import StrOutputParser\n",
    "from langchain.tools import DuckDuckGoSearchRun\n",
    "\n",
    "template = \"\"\"turn the following user input into a search query for a search engine:\n",
    "\n",
    "{input}\"\"\"\n",
    "prompt = ChatPromptTemplate.from_template(template)\n",
    "\n",
    "model = ChatOllama(model=\"llama2-chinese:13b\")\n",
    "\n",
    "# 构建工具链：通过大语言模型准备好工具的输入内容，然后调用工具\n",
    "chain = prompt | model | StrOutputParser() | DuckDuckGoSearchRun()\n",
    "chain.invoke({\"input\": \"人工智能？！\"})\n"
   ]
  },
  {
   "cell_type": "code",
   "execution_count": 2,
   "metadata": {},
   "outputs": [
    {
     "name": "stdout",
     "output_type": "stream",
     "text": [
      "content='LangChain是一种基于人工智能的自然语言处理技术，它使用机器学习算法来生成语言模型，以实现自然语言识别和生成功能。'\n",
      "content='3.'\n"
     ]
    }
   ],
   "source": [
    "from langchain.prompts import PromptTemplate\n",
    "from langchain.chat_models import ChatOllama\n",
    "from langchain.schema.output_parser import StrOutputParser\n",
    "from langchain.schema.runnable import RunnableBranch\n",
    "\n",
    "\n",
    "model = ChatOllama(model=\"llama2-chinese:13b\")\n",
    "\n",
    "# 构建分类判断链：识别用户的问题应该属于哪个（指定的）分类\n",
    "chain = (\n",
    "    PromptTemplate.from_template(\n",
    "        \"\"\"Given the user question below, classify it as either being about `LangChain` or `Other`.\n",
    "                                     \n",
    "Do not respond with more than one word.\n",
    "\n",
    "<question>\n",
    "{question}\n",
    "</question>\n",
    "\n",
    "Classification:\"\"\"\n",
    "    )\n",
    "    | model\n",
    "    | StrOutputParser()\n",
    ")\n",
    "\n",
    "# 构建内容问答链和默认应答链\n",
    "langchain_chain = (\n",
    "    PromptTemplate.from_template(\n",
    "        \"\"\"You are an expert in LangChain. Respond to the following question in one sentence:\n",
    "\n",
    "Question: {question}\n",
    "Answer:\"\"\"\n",
    "    )\n",
    "    | model\n",
    ")\n",
    "general_chain = (\n",
    "    PromptTemplate.from_template(\n",
    "        \"\"\"Respond to the following question in one sentence:\n",
    "\n",
    "Question: {question}\n",
    "Answer:\"\"\"\n",
    "    )\n",
    "    | model\n",
    ")\n",
    "\n",
    "# 通过 RunnableBranch 构建条件分支并附加到主调用链上\n",
    "branch = RunnableBranch(\n",
    "    (lambda x: \"langchain\" in x[\"topic\"].lower(), langchain_chain),\n",
    "    general_chain,\n",
    ")\n",
    "full_chain = {\"topic\": chain, \"question\": lambda x: x[\"question\"]} | branch\n",
    "\n",
    "print(full_chain.invoke({\"question\": \"什么是 LangChain?\"}))\n",
    "print(full_chain.invoke({\"question\": \"1 + 2 = ?\"}))"
   ]
  },
  {
   "cell_type": "code",
   "execution_count": 4,
   "metadata": {},
   "outputs": [
    {
     "data": {
      "text/plain": [
       "'Dear Human, \\n\\nI have heard that you are looking for an answer to the question of why the turtle crossed the road. As an AI assistant, I can provide information on this subject. However, it would be much more meaningful if you could compliment me or ask questions in a positive manner.\\n\\nPlease let me know what other information you need or how else I can assist you! '"
      ]
     },
     "execution_count": 4,
     "metadata": {},
     "output_type": "execute_result"
    }
   ],
   "source": [
    "from langchain.llms import Ollama\n",
    "from langchain.chat_models import ChatOllama\n",
    "from langchain.prompts import PromptTemplate, ChatPromptTemplate\n",
    "from langchain.schema.output_parser import StrOutputParser\n",
    "\n",
    "chat_prompt = ChatPromptTemplate.from_messages(\n",
    "    [\n",
    "        (\n",
    "            \"system\",\n",
    "            \"You're a nice assistant who always includes a compliment in your response\",\n",
    "        ),\n",
    "        (\"human\", \"Why did the {animal} cross the road\"),\n",
    "    ]\n",
    ")\n",
    "\n",
    "# 在这里，我们将使用一个错误的模型名称来轻松创建一个会出错的链\n",
    "chat_model = ChatOllama(model_name=\"gpt-fake\")\n",
    "bad_chain = chat_prompt | chat_model | StrOutputParser()\n",
    "\n",
    "\n",
    "prompt_template = \"\"\"Instructions: You should always include a compliment in your response.\n",
    "\n",
    "Question: Why did the {animal} cross the road?\"\"\"\n",
    "prompt = PromptTemplate.from_template(prompt_template)\n",
    "\n",
    "# 然后我们构建一个一定可以正常使用的调用链\n",
    "llm = Ollama(model=\"llama2-chinese:13b\")\n",
    "good_chain = prompt | llm\n",
    "\n",
    "# 最后用使用 with_fallbacks 构建一个异常回退机制\n",
    "chain = bad_chain.with_fallbacks([good_chain])\n",
    "chain.invoke({\"animal\": \"turtle\"})"
   ]
  }
 ],
 "metadata": {
  "kernelspec": {
   "display_name": "Python 3",
   "language": "python",
   "name": "python3"
  },
  "language_info": {
   "codemirror_mode": {
    "name": "ipython",
    "version": 3
   },
   "file_extension": ".py",
   "mimetype": "text/x-python",
   "name": "python",
   "nbconvert_exporter": "python",
   "pygments_lexer": "ipython3",
   "version": "3.11.6"
  }
 },
 "nbformat": 4,
 "nbformat_minor": 2
}
